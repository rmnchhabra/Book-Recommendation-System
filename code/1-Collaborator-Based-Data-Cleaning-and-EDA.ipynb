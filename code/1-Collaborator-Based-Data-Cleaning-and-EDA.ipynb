{
 "cells": [
  {
   "cell_type": "markdown",
   "metadata": {},
   "source": [
    "<img align=\"left\" src=\"../assets/books.png\">\n",
    "\n",
    "# Book Recommender Engines\n",
    "\n",
    "## Part 1: Collaborator-Based: Data Cleaning and EDA<br>\n",
    "***\n"
   ]
  },
  {
   "cell_type": "markdown",
   "metadata": {},
   "source": [
    "#### Contents:\n",
    "- [Imports](#Imports)\n",
    "- [Reading in the Data](#Reading-in-the-Data)\n",
    "- [Preliminary Exploratory Data Analysis](#Preliminary-Exploratory-Data-Analysis)\n",
    "- [Data Cleaning](#Data-Cleaning)\n",
    "- [Further Exploratory Data Analysis](#Further-Exploratory-Data-Analysis)\n",
    "- [Saving the DataFrame](#Saving-the-DataFrame)"
   ]
  },
  {
   "cell_type": "markdown",
   "metadata": {},
   "source": [
    "### Imports"
   ]
  },
  {
   "cell_type": "code",
   "execution_count": 1,
   "metadata": {},
   "outputs": [],
   "source": [
    "#importing the packages\n",
    "import numpy as np\n",
    "import pandas as pd\n",
    "import matplotlib.pyplot as plt\n",
    "import seaborn as sns\n",
    "\n",
    "#importing warnings to turn off future warnings\n",
    "import warnings\n",
    "warnings.simplefilter(action='ignore')"
   ]
  },
  {
   "cell_type": "markdown",
   "metadata": {},
   "source": [
    "### Reading in the Data\n",
    "\n",
    "With collaborator engines, recommendations are based on how users interact with products. This includes purchasing an item, rating it, or listening/watching media.  The data set is from [Book Crossing](http://www2.informatik.uni-freiburg.de/~cziegler/BX/) and includes three CSV files broken down by user locations, books, and user ratings. The files were first runned on pandas, NaN and NULL values were founded. After opening the files in Excel to address the problem, there were a few overlapping rows. "
   ]
  },
  {
   "cell_type": "code",
   "execution_count": 2,
   "metadata": {},
   "outputs": [
    {
     "data": {
      "text/html": [
       "<div>\n",
       "<style scoped>\n",
       "    .dataframe tbody tr th:only-of-type {\n",
       "        vertical-align: middle;\n",
       "    }\n",
       "\n",
       "    .dataframe tbody tr th {\n",
       "        vertical-align: top;\n",
       "    }\n",
       "\n",
       "    .dataframe thead th {\n",
       "        text-align: right;\n",
       "    }\n",
       "</style>\n",
       "<table border=\"1\" class=\"dataframe\">\n",
       "  <thead>\n",
       "    <tr style=\"text-align: right;\">\n",
       "      <th></th>\n",
       "      <th>User-ID</th>\n",
       "      <th>City</th>\n",
       "      <th>State/Providence</th>\n",
       "      <th>Country</th>\n",
       "      <th>Age</th>\n",
       "    </tr>\n",
       "  </thead>\n",
       "  <tbody>\n",
       "    <tr>\n",
       "      <th>0</th>\n",
       "      <td>1.0</td>\n",
       "      <td>nyc</td>\n",
       "      <td>new york</td>\n",
       "      <td>usa</td>\n",
       "      <td>NaN</td>\n",
       "    </tr>\n",
       "    <tr>\n",
       "      <th>1</th>\n",
       "      <td>2.0</td>\n",
       "      <td>stockton</td>\n",
       "      <td>california</td>\n",
       "      <td>usa</td>\n",
       "      <td>18</td>\n",
       "    </tr>\n",
       "    <tr>\n",
       "      <th>2</th>\n",
       "      <td>3.0</td>\n",
       "      <td>moscow</td>\n",
       "      <td>yukon territory</td>\n",
       "      <td>russia</td>\n",
       "      <td>NaN</td>\n",
       "    </tr>\n",
       "    <tr>\n",
       "      <th>3</th>\n",
       "      <td>4.0</td>\n",
       "      <td>porto</td>\n",
       "      <td>v.n.gaia</td>\n",
       "      <td>portugal</td>\n",
       "      <td>17</td>\n",
       "    </tr>\n",
       "    <tr>\n",
       "      <th>4</th>\n",
       "      <td>5.0</td>\n",
       "      <td>farnborough</td>\n",
       "      <td>hants</td>\n",
       "      <td>united kingdom</td>\n",
       "      <td>NaN</td>\n",
       "    </tr>\n",
       "  </tbody>\n",
       "</table>\n",
       "</div>"
      ],
      "text/plain": [
       "   User-ID         City State/Providence         Country  Age\n",
       "0      1.0          nyc         new york             usa  NaN\n",
       "1      2.0     stockton       california             usa   18\n",
       "2      3.0       moscow  yukon territory          russia  NaN\n",
       "3      4.0        porto         v.n.gaia        portugal   17\n",
       "4      5.0  farnborough            hants  united kingdom  NaN"
      ]
     },
     "execution_count": 2,
     "metadata": {},
     "output_type": "execute_result"
    }
   ],
   "source": [
    "#reading in the users file\n",
    "users = pd.read_csv('../datasets/book_crossing/users.csv', encoding=\"latin1\")\n",
    "#dropping the unnamed columns\n",
    "users.drop(columns='Unnamed: 5', inplace = True)\n",
    "#checking out what's in the file\n",
    "users.head()"
   ]
  },
  {
   "cell_type": "code",
   "execution_count": 10,
   "metadata": {},
   "outputs": [
    {
     "name": "stdout",
     "output_type": "stream",
     "text": [
      "<class 'pandas.core.frame.DataFrame'>\n",
      "RangeIndex: 1048561 entries, 0 to 1048560\n",
      "Data columns (total 3 columns):\n",
      "User-ID        1048561 non-null int64\n",
      "ISBN           1048561 non-null object\n",
      "Book-Rating    1048561 non-null int64\n",
      "dtypes: int64(2), object(1)\n",
      "memory usage: 24.0+ MB\n"
     ]
    }
   ],
   "source": [
    "#reading in the ratings file\n",
    "ratings = pd.read_csv('../datasets/book_crossing/ratings.csv', encoding=\"latin1\")\n",
    "ratings.info()"
   ]
  },
  {
   "cell_type": "code",
   "execution_count": 40,
   "metadata": {},
   "outputs": [
    {
     "data": {
      "text/html": [
       "<div>\n",
       "<style scoped>\n",
       "    .dataframe tbody tr th:only-of-type {\n",
       "        vertical-align: middle;\n",
       "    }\n",
       "\n",
       "    .dataframe tbody tr th {\n",
       "        vertical-align: top;\n",
       "    }\n",
       "\n",
       "    .dataframe thead th {\n",
       "        text-align: right;\n",
       "    }\n",
       "</style>\n",
       "<table border=\"1\" class=\"dataframe\">\n",
       "  <thead>\n",
       "    <tr style=\"text-align: right;\">\n",
       "      <th></th>\n",
       "      <th>User-ID</th>\n",
       "      <th>ISBN</th>\n",
       "      <th>Book-Rating</th>\n",
       "    </tr>\n",
       "  </thead>\n",
       "  <tbody>\n",
       "    <tr>\n",
       "      <th>0</th>\n",
       "      <td>6360</td>\n",
       "      <td>0</td>\n",
       "      <td>0</td>\n",
       "    </tr>\n",
       "    <tr>\n",
       "      <th>1</th>\n",
       "      <td>8094</td>\n",
       "      <td>0</td>\n",
       "      <td>0</td>\n",
       "    </tr>\n",
       "    <tr>\n",
       "      <th>2</th>\n",
       "      <td>11795</td>\n",
       "      <td>0</td>\n",
       "      <td>0</td>\n",
       "    </tr>\n",
       "    <tr>\n",
       "      <th>3</th>\n",
       "      <td>11795</td>\n",
       "      <td>0</td>\n",
       "      <td>0</td>\n",
       "    </tr>\n",
       "    <tr>\n",
       "      <th>4</th>\n",
       "      <td>20859</td>\n",
       "      <td>0</td>\n",
       "      <td>0</td>\n",
       "    </tr>\n",
       "  </tbody>\n",
       "</table>\n",
       "</div>"
      ],
      "text/plain": [
       "   User-ID ISBN  Book-Rating\n",
       "0     6360    0            0\n",
       "1     8094    0            0\n",
       "2    11795    0            0\n",
       "3    11795    0            0\n",
       "4    20859    0            0"
      ]
     },
     "execution_count": 40,
     "metadata": {},
     "output_type": "execute_result"
    }
   ],
   "source": [
    "\n",
    "\n",
    "ratings.head()\n"
   ]
  },
  {
   "cell_type": "code",
   "execution_count": 12,
   "metadata": {},
   "outputs": [
    {
     "name": "stdout",
     "output_type": "stream",
     "text": [
      "<class 'pandas.core.frame.DataFrame'>\n",
      "RangeIndex: 271379 entries, 0 to 271378\n",
      "Data columns (total 8 columns):\n",
      "ISBN                   271379 non-null object\n",
      "Book-Title             271379 non-null object\n",
      "Book-Author            233754 non-null object\n",
      "Year-Of-Publication    232410 non-null object\n",
      "Publisher              232408 non-null object\n",
      "Image-URL-S            228148 non-null object\n",
      "Image-URL-M            228148 non-null object\n",
      "Image-URL-L            228148 non-null object\n",
      "dtypes: object(8)\n",
      "memory usage: 16.6+ MB\n"
     ]
    }
   ],
   "source": [
    "#reading in the books file\n",
    "books = pd.read_csv('../datasets/book_crossing/books.csv', encoding=\"latin1\")\n",
    "#checking out what's in the file\n",
    "books.info()"
   ]
  },
  {
   "cell_type": "markdown",
   "metadata": {},
   "source": [
    "### Preliminary Exploratory Data Analysis\n",
    "\n",
    "For preliminary EDA, I evaluated content types within each file, as well as whether or not there was missing data. At this point, I'm making an assessment of what needs to be cleaned based on what information I want to use in the recommender.  "
   ]
  },
  {
   "cell_type": "code",
   "execution_count": 13,
   "metadata": {},
   "outputs": [
    {
     "data": {
      "text/html": [
       "<div>\n",
       "<style scoped>\n",
       "    .dataframe tbody tr th:only-of-type {\n",
       "        vertical-align: middle;\n",
       "    }\n",
       "\n",
       "    .dataframe tbody tr th {\n",
       "        vertical-align: top;\n",
       "    }\n",
       "\n",
       "    .dataframe thead th {\n",
       "        text-align: right;\n",
       "    }\n",
       "</style>\n",
       "<table border=\"1\" class=\"dataframe\">\n",
       "  <thead>\n",
       "    <tr style=\"text-align: right;\">\n",
       "      <th></th>\n",
       "      <th>ISBN</th>\n",
       "      <th>Book-Title</th>\n",
       "      <th>Book-Author</th>\n",
       "      <th>Year-Of-Publication</th>\n",
       "      <th>Publisher</th>\n",
       "      <th>Image-URL-S</th>\n",
       "      <th>Image-URL-M</th>\n",
       "      <th>Image-URL-L</th>\n",
       "    </tr>\n",
       "  </thead>\n",
       "  <tbody>\n",
       "    <tr>\n",
       "      <th>0</th>\n",
       "      <td>195153448</td>\n",
       "      <td>Classical Mythology</td>\n",
       "      <td>Mark P. O. Morford</td>\n",
       "      <td>2002</td>\n",
       "      <td>Oxford University Press</td>\n",
       "      <td>http://images.amazon.com/images/P/0195153448.0...</td>\n",
       "      <td>http://images.amazon.com/images/P/0195153448.0...</td>\n",
       "      <td>http://images.amazon.com/images/P/0195153448.0...</td>\n",
       "    </tr>\n",
       "    <tr>\n",
       "      <th>1</th>\n",
       "      <td>2005018</td>\n",
       "      <td>Clara Callan</td>\n",
       "      <td>Richard Bruce Wright</td>\n",
       "      <td>2001</td>\n",
       "      <td>HarperFlamingo Canada</td>\n",
       "      <td>http://images.amazon.com/images/P/0002005018.0...</td>\n",
       "      <td>http://images.amazon.com/images/P/0002005018.0...</td>\n",
       "      <td>http://images.amazon.com/images/P/0002005018.0...</td>\n",
       "    </tr>\n",
       "    <tr>\n",
       "      <th>2</th>\n",
       "      <td>60973129</td>\n",
       "      <td>Decision in Normandy</td>\n",
       "      <td>Carlo D'Este</td>\n",
       "      <td>1991</td>\n",
       "      <td>HarperPerennial</td>\n",
       "      <td>http://images.amazon.com/images/P/0060973129.0...</td>\n",
       "      <td>http://images.amazon.com/images/P/0060973129.0...</td>\n",
       "      <td>http://images.amazon.com/images/P/0060973129.0...</td>\n",
       "    </tr>\n",
       "    <tr>\n",
       "      <th>3</th>\n",
       "      <td>374157065</td>\n",
       "      <td>Flu: The Story of the Great Influenza Pandemic...</td>\n",
       "      <td>Gina Bari Kolata</td>\n",
       "      <td>1999</td>\n",
       "      <td>Farrar Straus Giroux</td>\n",
       "      <td>http://images.amazon.com/images/P/0374157065.0...</td>\n",
       "      <td>http://images.amazon.com/images/P/0374157065.0...</td>\n",
       "      <td>http://images.amazon.com/images/P/0374157065.0...</td>\n",
       "    </tr>\n",
       "    <tr>\n",
       "      <th>4</th>\n",
       "      <td>393045218</td>\n",
       "      <td>The Mummies of Urumchi</td>\n",
       "      <td>E. J. W. Barber</td>\n",
       "      <td>1999</td>\n",
       "      <td>W. W. Norton &amp; Company</td>\n",
       "      <td>http://images.amazon.com/images/P/0393045218.0...</td>\n",
       "      <td>http://images.amazon.com/images/P/0393045218.0...</td>\n",
       "      <td>http://images.amazon.com/images/P/0393045218.0...</td>\n",
       "    </tr>\n",
       "  </tbody>\n",
       "</table>\n",
       "</div>"
      ],
      "text/plain": [
       "        ISBN                                         Book-Title  \\\n",
       "0  195153448                                Classical Mythology   \n",
       "1    2005018                                       Clara Callan   \n",
       "2   60973129                               Decision in Normandy   \n",
       "3  374157065  Flu: The Story of the Great Influenza Pandemic...   \n",
       "4  393045218                             The Mummies of Urumchi   \n",
       "\n",
       "            Book-Author Year-Of-Publication                Publisher  \\\n",
       "0    Mark P. O. Morford                2002  Oxford University Press   \n",
       "1  Richard Bruce Wright                2001    HarperFlamingo Canada   \n",
       "2          Carlo D'Este                1991          HarperPerennial   \n",
       "3      Gina Bari Kolata                1999     Farrar Straus Giroux   \n",
       "4       E. J. W. Barber                1999   W. W. Norton & Company   \n",
       "\n",
       "                                         Image-URL-S  \\\n",
       "0  http://images.amazon.com/images/P/0195153448.0...   \n",
       "1  http://images.amazon.com/images/P/0002005018.0...   \n",
       "2  http://images.amazon.com/images/P/0060973129.0...   \n",
       "3  http://images.amazon.com/images/P/0374157065.0...   \n",
       "4  http://images.amazon.com/images/P/0393045218.0...   \n",
       "\n",
       "                                         Image-URL-M  \\\n",
       "0  http://images.amazon.com/images/P/0195153448.0...   \n",
       "1  http://images.amazon.com/images/P/0002005018.0...   \n",
       "2  http://images.amazon.com/images/P/0060973129.0...   \n",
       "3  http://images.amazon.com/images/P/0374157065.0...   \n",
       "4  http://images.amazon.com/images/P/0393045218.0...   \n",
       "\n",
       "                                         Image-URL-L  \n",
       "0  http://images.amazon.com/images/P/0195153448.0...  \n",
       "1  http://images.amazon.com/images/P/0002005018.0...  \n",
       "2  http://images.amazon.com/images/P/0060973129.0...  \n",
       "3  http://images.amazon.com/images/P/0374157065.0...  \n",
       "4  http://images.amazon.com/images/P/0393045218.0...  "
      ]
     },
     "execution_count": 13,
     "metadata": {},
     "output_type": "execute_result"
    }
   ],
   "source": [
    "books.head()"
   ]
  },
  {
   "cell_type": "code",
   "execution_count": 14,
   "metadata": {},
   "outputs": [
    {
     "name": "stdout",
     "output_type": "stream",
     "text": [
      "<class 'pandas.core.frame.DataFrame'>\n",
      "RangeIndex: 276280 entries, 0 to 276279\n",
      "Data columns (total 5 columns):\n",
      "User-ID             276276 non-null float64\n",
      "City                275724 non-null object\n",
      "State/Providence    260039 non-null object\n",
      "Country             271617 non-null object\n",
      "Age                 165623 non-null object\n",
      "dtypes: float64(1), object(4)\n",
      "memory usage: 10.5+ MB\n"
     ]
    }
   ],
   "source": [
    "#taking a look at the user file types\n",
    "users.info()"
   ]
  },
  {
   "cell_type": "markdown",
   "metadata": {},
   "source": [
    "Age shouldn't be an object, but I suspect there are Nans in there. Let's find out."
   ]
  },
  {
   "cell_type": "code",
   "execution_count": 15,
   "metadata": {},
   "outputs": [
    {
     "data": {
      "text/plain": [
       "User-ID                  4\n",
       "City                   556\n",
       "State/Providence     16241\n",
       "Country               4663\n",
       "Age                 110657\n",
       "dtype: int64"
      ]
     },
     "execution_count": 15,
     "metadata": {},
     "output_type": "execute_result"
    }
   ],
   "source": [
    "#Checking to see if there are nulls in the users\n",
    "users.isnull().sum()"
   ]
  },
  {
   "cell_type": "markdown",
   "metadata": {},
   "source": [
    "Seeing how many ages are missing, I want to see how large the file is so I can assess how much of the data set is missing the age value."
   ]
  },
  {
   "cell_type": "code",
   "execution_count": 16,
   "metadata": {},
   "outputs": [
    {
     "data": {
      "text/plain": [
       "(276280, 5)"
      ]
     },
     "execution_count": 16,
     "metadata": {},
     "output_type": "execute_result"
    }
   ],
   "source": [
    "#Checking the size of the file\n",
    "users.shape"
   ]
  },
  {
   "cell_type": "markdown",
   "metadata": {},
   "source": [
    "It looks like 40% of the ages are missing. I'm going to temporarily drop the NANs so I can see the distro of ages that are available."
   ]
  },
  {
   "cell_type": "code",
   "execution_count": 17,
   "metadata": {},
   "outputs": [
    {
     "data": {
      "text/html": [
       "<div>\n",
       "<style scoped>\n",
       "    .dataframe tbody tr th:only-of-type {\n",
       "        vertical-align: middle;\n",
       "    }\n",
       "\n",
       "    .dataframe tbody tr th {\n",
       "        vertical-align: top;\n",
       "    }\n",
       "\n",
       "    .dataframe thead th {\n",
       "        text-align: right;\n",
       "    }\n",
       "</style>\n",
       "<table border=\"1\" class=\"dataframe\">\n",
       "  <thead>\n",
       "    <tr style=\"text-align: right;\">\n",
       "      <th></th>\n",
       "      <th>User-ID</th>\n",
       "      <th>Age</th>\n",
       "    </tr>\n",
       "  </thead>\n",
       "  <tbody>\n",
       "    <tr>\n",
       "      <th>1</th>\n",
       "      <td>2.0</td>\n",
       "      <td>18</td>\n",
       "    </tr>\n",
       "  </tbody>\n",
       "</table>\n",
       "</div>"
      ],
      "text/plain": [
       "   User-ID Age\n",
       "1      2.0  18"
      ]
     },
     "execution_count": 17,
     "metadata": {},
     "output_type": "execute_result"
    }
   ],
   "source": [
    "#creating a temp dataframe so I can see what the available ages distro is\n",
    "temp = users[['User-ID', 'Age']]\n",
    "temp.dropna().head(1)"
   ]
  },
  {
   "cell_type": "markdown",
   "metadata": {},
   "source": [
    "I'm unable to sort ages so I want a closer look as to what's going on, so I'll look at uniques.\n"
   ]
  },
  {
   "cell_type": "code",
   "execution_count": 18,
   "metadata": {
    "scrolled": true
   },
   "outputs": [
    {
     "data": {
      "text/plain": [
       "array([nan, '18', '17', '61', '26', '14', '25', '19', '46', '55', '32',\n",
       "       '24', '20', '34', '23', '51', '31', '21', '44', '30', '57', '43',\n",
       "       '37', '41', '54', '42', '50', '39', '53', '47', '36', '28', '35',\n",
       "       '13', '58', '49', '38', '45', '62', '63', '27', '33', '29', '66',\n",
       "       '40', '15', '60', '0', '79', '22', '16', '65', '59', '48', '72',\n",
       "       '56', '67', '1', '80', '52', '69', '71', '73', '78', '9', '64',\n",
       "       '103', '104', '12', '74', '75', '231', '3', '76', '83', '68',\n",
       "       '119', '11', '2', '70', '77', '93', '8', '7', '4', '81', '114',\n",
       "       '230', '239', '10', '5', '148', '151', '&#22269', '6', '101',\n",
       "       '201', '96', '84', '82', '90', '123', '244', '133', '91', '128',\n",
       "       '94', '85', '141', '110', '97', '219', '86', '124', '92', '175',\n",
       "       '172', '209', '212', '237', '162', '100', '87', '156', '136', '95',\n",
       "       '89', '106', '99', '108', '210', '88', '199', '147', '168', '132',\n",
       "       '159', 18.0, 17.0, 41.0, 47.0, 19.0, 31.0, 15.0, 39.0, 58.0, 48.0,\n",
       "       42.0, 22.0, 56.0, 37.0, 52.0, 44.0, 33.0, 66.0, 34.0, 51.0, 54.0,\n",
       "       49.0, 45.0, 73.0, 50.0, 29.0, 40.0, 53.0, 38.0, 63.0, 21.0, 32.0,\n",
       "       25.0, 30.0, 35.0, 26.0, 24.0, 60.0, 23.0, 14.0, 46.0, 27.0, 28.0,\n",
       "       20.0, 16.0, 0.0, 36.0, 43.0, 57.0, 104.0, 70.0, 186.0, 61.0, 71.0,\n",
       "       11.0, 72.0, 13.0, 64.0, 55.0, 67.0, 81.0, 59.0, 84.0, 62.0, 9.0,\n",
       "       1.0, 74.0, 69.0, 103.0, 78.0, 2.0, 10.0, 65.0, 8.0, 68.0, 3.0,\n",
       "       152.0, 80.0, 102.0, 12.0, 92.0, 77.0, 76.0, 75.0, 7.0, 6.0, 5.0,\n",
       "       83.0, 96.0, 114.0, 4.0, 123.0, 79.0, 85.0, 116.0, 106.0, 210.0,\n",
       "       82.0, 200.0, 115.0, 199.0, 226.0, 93.0, 108.0, 137.0, 207.0, 229.0,\n",
       "       100.0, 138.0, 109.0, 105.0, 228.0, 183.0, 89.0, 86.0, 204.0, 147.0,\n",
       "       99.0, 91.0, 148.0, 87.0, 98.0, 90.0, 223.0, 113.0, 208.0, 124.0,\n",
       "       157.0, 111.0, 146.0, 118.0, 101.0, 94.0, 220.0, 143.0, '140',\n",
       "       '116', '102', '189', '127', '98'], dtype=object)"
      ]
     },
     "execution_count": 18,
     "metadata": {},
     "output_type": "execute_result"
    }
   ],
   "source": [
    "#Checking what the unique values of ages are\n",
    "temp.Age.unique()"
   ]
  },
  {
   "cell_type": "markdown",
   "metadata": {},
   "source": [
    "Glancing over these, I can see that the ages are not going to be much use here. There are ages over 100 and I can't imagine a 2 year old rated books, though maybe a parent rated picture picture books on their behalf. Regardless, the recommender won't be using age information anyway.\n",
    "\n",
    "Next, I want to take a look at country info to see if it's any better than age info was."
   ]
  },
  {
   "cell_type": "code",
   "execution_count": 19,
   "metadata": {},
   "outputs": [
    {
     "data": {
      "text/plain": [
       "array(['usa', 'russia', 'portugal', 'united kingdom', 'canada', 'spain',\n",
       "       'australia', 'brazil', nan, 'germany', 'mexico', 'china', 'italy',\n",
       "       'distrito federal', 'france', 'netherlands', 'iraq', 'finland',\n",
       "       'new zealand', 'india', 'ghana', 'switzerland', 'slovenia', 'iran',\n",
       "       'peru', 'bosnia and herzegovina', 'vietnam', 'sri lanka',\n",
       "       'pakistan', 'denmark', 'belgium', 'malaysia', 'u.a.e', 'turkey',\n",
       "       'philippines', 'greece', 'colombia', 'norway', 'kuwait', 'chile',\n",
       "       'quit', 'lj', 'taiwan', 'espaÃ±a', 'sweden', 'argentina',\n",
       "       'nigeria', 'london', 'bulgaria', 'austria', 'romania', 'victoria',\n",
       "       'singapore', 'albania', 'egypt', 'tunisia', 'uzbekistan', 'qatar',\n",
       "       'syria', 'saudi arabia', 'indonesia', 'sudan', 'british columbia',\n",
       "       'missouri', 'somewherein space', 'poland', 'thailand',\n",
       "       'metropolitana', 'ireland', 'venezuela', 'paraguay', 'mozambique',\n",
       "       'morocco', 'afghanistan', 'estonia', 'clackamas', 'lesotho',\n",
       "       'mansoura', 'yugoslavia', 'dc', 'slovakia', 'costa rica',\n",
       "       'basque country', 'british virgin islands', 'ethiopia', 'croatia',\n",
       "       'israel', 'japan', 'england', 'iceland', 'connecticut', 'gambia',\n",
       "       'south africa', 'cuba', 'antigua and barbuda', 'calabria',\n",
       "       'alderney', 'puerto rico', 'hong kong', 'latvia', 'jersey',\n",
       "       'luxembourg', 'belarus', 'cape verde', 'lithuania', 'guyana',\n",
       "       'scotland', 'bayern', 'hawaii', 'jordan', 'la argentina', 'angola',\n",
       "       'algeria', 'andorra', 'kyrgyzstan', 'panama', 'csa', 'sind',\n",
       "       'ecuador', 'phils', 'heard of it? :o)', 'kazakhstan',\n",
       "       'dominican republic', 'texas', 'brunei', 'morogoro', 'bangladesh',\n",
       "       'monterrey', 'bahrain', 'united arab emirates', 'jalisco',\n",
       "       'urugua', 'uruguay', 'voivodina', 'l`italia', 'francisco morazÃ¡n',\n",
       "       'georgia', 'dominica', 'malta', 'faroe islands', 'honduras',\n",
       "       'east africa', 'sierra leone', 'guatemala', 'mali', 'washington',\n",
       "       'central otago', 'czech republic', 'space', 'south korea',\n",
       "       'rwanda', 'trinidad and tobago', 'alabama', 'west yorkshire',\n",
       "       'yemen', 'you listed stroud!)', 'cyprus', 'alsace',\n",
       "       'the philippines', 'maine', 'Ã¶Ã°Â¹Ãº', 'la france', 'eritrea',\n",
       "       'bahamas', 'cameroon', 'nicaragua', 'zambia', 'canberra',\n",
       "       'bolivia', 'granada', 'mississippi', 'maroc', 'isreal', 'belize',\n",
       "       'ontario', 'oklahoma', 'fernando de la mora', 'namibia',\n",
       "       'macedonia', 'botswana', 'queenspark', 'monaco', 'samoa',\n",
       "       'lombardia', 'brasil', '19104', 'guernsey', 'euskal herria',\n",
       "       'minnesota', 'baden-wuerttemberg', 'bermuda', 'barbados',\n",
       "       'colorado', 'new york', 'trinidad', 'armenia', 'hungary',\n",
       "       'deutschland', 'cayman islands', 'ukraine', 'republic of panama',\n",
       "       'minnehaha', 'michigan', 'piemonte', 'azerbaijan', 'galiza',\n",
       "       'catalunya', 'de', 'karnataka', 'guandong province', 'suriname',\n",
       "       'pennsylvania', 'doodedoo', 'v9v 1h4', 'jamaica', 'caribbean sea',\n",
       "       '&#32654', 'cape', 'canterbury', 'u.s. virgin islands',\n",
       "       'u.s. of a.', 'arkansas', 'afganstand holla !!', 'islas canarias',\n",
       "       'kosovo', 'serbia & montenegro', 'somalia', 'moldova', 'pakistan.',\n",
       "       '-------', 'saskatchewan', 'trinidad & tobago', 'ondo state',\n",
       "       'maryland', 'tanzania', 'iowa', 'lk ammerland', 'burma',\n",
       "       'wisconsin', 'uk', 'df', 'alberta', 'selangor d.e.', 'turkei',\n",
       "       'ksa', 'tajikistan', 'new south wales', 'manitoba', 'maharashtra',\n",
       "       'ca.', 'nepal', 'sri lanka\\\\n/a\\\\', 'valtesse', 'lebanon',\n",
       "       'cote d`ivoire', 'maldives', 'catalunya(catalonia)',\n",
       "       'mÃ£?Ã¢Â©xico', 'us virgin islands', 'nederlands', 'tdzimi',\n",
       "       'queensland', 'oman', 'saint vincent and the grenadines', 'lleida',\n",
       "       'antarctica', 'nottinghamshire', 'florida', 'utah', 'itlay',\n",
       "       'u.s.a.', 'palau', 'belgique', 'south wales.',\n",
       "       'st. vincent and the grenadines', 'hessen', 'Ã¡lava',\n",
       "       'deutsches reich', 'catalonia', 'micronesia', 'kenya', 'collin',\n",
       "       'south dakota', 'zhengjiang', 'kansas', 'california', 'maharastra',\n",
       "       'grenada', 'oregon', 'bhutan', 'baxter', 'rhode island',\n",
       "       'guinea-bissau', 'evil empire', 'wales', 'mongolia',\n",
       "       'south carolina', 'hennipen', 'north carolina', 'new mexico',\n",
       "       'equatorial geuinea', '.', 'virginia', 'italia', 'rice', 'indiana',\n",
       "       'good old usa !', 'polska', 'goteborg', 'chandigarh', 'senegal',\n",
       "       'south australia', 'bbbzzzzz', 'saint lucia', 'zimbabwe', 'cass',\n",
       "       'baltimore', 'hampden', 'cambridgeshire', 'ust', 'ama lurra',\n",
       "       'polk', 'hamilton', 'vermont', 'benguet', 'fiji', 'norfolk',\n",
       "       'bernalillo', 'effingham', 'almerÃ\\xada', 'veneto', 'lake',\n",
       "       'catalunya spain', 'na', '*', 'nova scotia', 'windham',\n",
       "       'etelÃ¤-suomi', 'pa', 'ile de france', 'new hampshire',\n",
       "       'papua new guinea', 'aragÃ³n', 'veracruz', 'laos', 'sinaloa',\n",
       "       'united stated', 'burkina faso', 'philippine', 'new jersey',\n",
       "       'auckland', '?Ãº?{', 'holland', 'c', 'gabon', 'kentucky',\n",
       "       'illinois', 'channel islands', 'cote d`or', 'pasco', 'perlis',\n",
       "       'united states of america', 'ferrara', 'morgan', 'milano',\n",
       "       'europe', 'slo', 'sichuan/china', 'beijing', 'lkjlj',\n",
       "       'north korea', 'marrion', 'gulf view',\n",
       "       'commonwealth of northern mariana islands', 'mauritius', 'benin',\n",
       "       'cnina', 'hb', 'holy see', 'sÃ£o paulo', 'noord-brabant', 'haiti',\n",
       "       'region metropolitana', 'cn', 'alava', 'oeiras', 'ohio', 'jackson',\n",
       "       'trentino alto adige', 'cherokee', 'nottingham', 'espaÃ£?Ã¢Â±a',\n",
       "       'noord holland', 'lazio', 'dekalb', 'massachusetts', 'la belgique',\n",
       "       'berlin', 'v region', 'el general carlos ibaÃ±es del campo.',\n",
       "       'chesterfield south carolina', 'maricopa', 'n/a - on the road',\n",
       "       'tamil nadu', 'paris', 'berkshire', 'ua', 'attica', 'utrecht',\n",
       "       'algÃ©rie', 'north yorkshire', 'san marino', 'nrw', 'tasmania',\n",
       "       'nyhamnslÃ¤ge', 'united states', 'national capital region', 'gh',\n",
       "       'block-o', 'aruba', 'richmond country', 'srilanka', 'camberley',\n",
       "       'el salvador', 'republic of korea', 'san luis potosÃ\\xad',\n",
       "       'cÃ´te d', 'saint loius', 'quebec', 'central java/jawa tengah',\n",
       "       'framingham', 'monroe', 'kyklades', 'hornyonic', 'ouranos', 'tx',\n",
       "       'bedfordshire', 'trapani', 'kykladon', 'san bernardino', 'montana',\n",
       "       'united kindgonm', 'bvi', 'cumbria', 'd.f.', 'ee.uu', 'maekel',\n",
       "       'here and there', 'wielkopolska', 'negeri sembilan', 'malawi',\n",
       "       'andalucÃ\\xada', 'south island', 'espaÃ£Â±a', 'solomon islands',\n",
       "       'acoruÃ±a', 'washtenaw', 'tennessee', 'cabanatuan city', 'cebu',\n",
       "       'universe', 'pais vasco', 'az', 'suisse', 'kuala lumpur', 'uganda',\n",
       "       'la chine Ã©ternelle !', 'western australia', 'macau',\n",
       "       'brunei darussalam', 'netherlands antilles', 'niger', 'cape town',\n",
       "       'barcelona', 'st. helena', 'sultanate of oman', 'hagiwara',\n",
       "       'aroostook', 'fredonia - land of the brave and free',\n",
       "       'shandong province', 'guangdong', 'pontevedra', 'chad',\n",
       "       'la chine Ã©ternelle!', 'kudarat', 'fifi', 'djibouti', 'america',\n",
       "       'prince william', 'bademn wÃ¼rtemberg', 'smaland', 'lisboa',\n",
       "       'kwara state', 'marshall islands', 'la suisse', 'arizona', 'gb',\n",
       "       'worcester', 'regiÃ£o autÃ³noma da madeira', 'wood', 'rmi',\n",
       "       'hongkong', 'provincia de arauco', 'entre rÃ\\xados', 'henderson',\n",
       "       'canarias', 'heaven', 'serbia', 'mÃ©xico', 'ex rabiee el gizie',\n",
       "       'perak', 'congo', 'osceola', 'east anglia', 'van wert', 'stadt',\n",
       "       'zapopan', '87510', 'alentejo', 'Ã¤Â¸Â\\xadÃ¥?Â½', 'lornsenland',\n",
       "       'saudia arabia', 'green brook', 'dublin', 'extremadura', 'pr',\n",
       "       'mugla', 'none', 'p.r.china', 'cagayan', 'liberia', 'molise',\n",
       "       'usa & canada', 'nordrhein-westfalen', 'carter', 'myanmar',\n",
       "       'rapides', 'american samoa', 'essex', 'sao tome and principe', '-',\n",
       "       'bagan datoh', 'hubei province', 'aaa', 'emilia romagna', 'can',\n",
       "       'los angeles', 'west virginia', 'english',\n",
       "       'singapore/united kingdom', 'kievs`ka obl', 'punjab', 'nowhere',\n",
       "       'west midlands', 'andalucia', 'antalya/olympos', 'dorchester',\n",
       "       'canary islands', 'alachua', 'china Ã¶Ã°Â¹Ãº', 'phitsanulok',\n",
       "       'cambodia', 'chiba ken', 'vanuatu', 'otago', 'turkmenistan',\n",
       "       'mÃ©rida', 'antigua & barbuda', 'hillsborough', 'my', 'bourgogne',\n",
       "       'greece (=hellas)', 'isle of man', 'san franicsco', 'u.s>',\n",
       "       'agusan del sur', 'u.s.a!', 'co. kilkenny', 'edo. de mexico',\n",
       "       '2458', '5057chadwick ct.', 'the netherlands', 'far away...', 'us',\n",
       "       'fl', 'travelling', 'metro manila', 'lower saxony', 'togo',\n",
       "       'belgi', 'pinallas', 'constantine', 'south west', 'id', 'k1c7b1',\n",
       "       'orense', 'indianapolis', 'japan military', 'seoul', 'rutherford',\n",
       "       'tn', 'louisiana', 'auckland.nz', '61 men', 'bell', 'sagadan',\n",
       "       'middlesex', 'country', 'surabaya', 'serbia and montenegro',\n",
       "       'sth island n>z>', '\\\\n/a\\\\', 'region of capital / bratislava',\n",
       "       'camden', 'dfg', 'chian', 'strongbadia', 'bfe', 'liaoning',\n",
       "       'united statea', '13 - 10Âºesq.', 'china people`s republic',\n",
       "       'italien', 'clinton', 'ventura county', 'alaska', 'berguedÃ\\xa0',\n",
       "       'hamburg', 'basilicata', 'diy', 'ysa', 'africa', 'kathmandu',\n",
       "       'ÃªÃ\\xa0Ã«Ã³Ã¦Ã±ÃªÃ\\xa0Ã¿ Ã®Ã¡Ã«', 'provincia del cachapoal',\n",
       "       'armed forces-europe', 'input error', 'bladen', 'sardegna',\n",
       "       'thailoand', 'rosario', 'usa now', 'leyte', 'perÃ£Âº', 'u.s.a>',\n",
       "       'in your heart', 'stÃ¸ednÃ\\xad cechy', 'aotearoa', 'burkinafasu',\n",
       "       'adsgfdr', 'querÃ©taro', 'henry', 'kz', 'good old u.s.a.',\n",
       "       'yukon territory', 'united stated of america', 'unit', 'w sussex',\n",
       "       'rosello', 'nebraska', 'granville', 'devon', 'asturias',\n",
       "       'v gÃ¶talands lÃ¤n', 'cebu city', 'bruselas', 'england uk',\n",
       "       'ruhrgebiet', 'county cork', 'provincia mi', 'storkÃ¸benhavn',\n",
       "       'brittany', 'petrolwar nation', 'new london', 'jharkhand',\n",
       "       'harvatija', 'new brunswick', 'region de coquimbo pais chile',\n",
       "       '23232', 'sanjose', 'copenhagen', 'canda', 'north dakota',\n",
       "       'yamunanagar', 'dhaka', 'midi-pyrÃ©nÃ©es', 'nz', 'prc',\n",
       "       'capital federal', 'mexico city', 'phippines', 'sarajevo',\n",
       "       'emilia', 'sardinia', 'u', 'mi', 'lecce', 'u k',\n",
       "       'regiÃ³n metropolitana', 'moÃ§ambique', 'ventura', 'gipuzkoa',\n",
       "       'ogunstate', 'ma 01075)', 'newzealand', 'niedersachsen', 'europa',\n",
       "       'western', 'yishun st 11', 'shelby', 'bulacan', 'p.r. china',\n",
       "       'sarawak', 'malaysian', 'n.z.', 'francisco morazan', 'fred',\n",
       "       'madrid', 'nordrhein westfalen', 'selangor',\n",
       "       'usa (currently living in england)', 'tonga', 'roma', 'mÃ¡laga',\n",
       "       'indiai', 'cook', 'prov. de bs. as.', 'mordor',\n",
       "       'district of columbia', 'l`algÃ©rie', 'buenos aires',\n",
       "       'illes balears', 'z', 'u.', 'fontana', 'makassar', 'kiribati',\n",
       "       'australii', 'libya', 'italy has no states or provinces',\n",
       "       'gyeonggido', 'ukrain', 'onondaga nation', '_ brasil', 'galicia',\n",
       "       'united kindgdom', 'hungary and usa', 'toscana', 'cananda',\n",
       "       'austbritania', 'ticino', 'obviously', 'united state', 'sindh',\n",
       "       'not applicable', 'solano', 'n.y', 'aberdeenshire', 'oyo state',\n",
       "       'pender', 'lagos state', 'la chine eternelle!', 'vicenza',\n",
       "       'address is:adem ademoski 13', 'p.r.c',\n",
       "       'madrid / ourense / marinha', 'nigeria in west  african',\n",
       "       'maracopa', 'palestine', 'deep padania', 'il canada',\n",
       "       'ikotun egbe', 'ca', 'county galway', 'phila', 'guinea', 'bc',\n",
       "       'rsa', 'yu-song', 'grand bahama', 'city', 'neverland', 'c.t.',\n",
       "       'smith', 'region centro', 'rimini', 'pueblo', 'northern ireland',\n",
       "       'pippo', 'tÃ¼rkiye', '600 083', 'normandy', 'uyo', 'brabant',\n",
       "       'sonora', 'lorraine', 'la altagracia', 'spotsylvania', 'der',\n",
       "       'swaziland', 'nuevo leÃ³n', 'livingston', 's.corea', 'h.u.g.',\n",
       "       'ussurfing', 'phillipines', 'bosnia', 'exactly where i am',\n",
       "       'cadd0', 'ant.', 'euskadi', 'canada eh', 'l', 'le canada', 'korea',\n",
       "       'nh', 'uae', 'yanhill', 'wonderful usa', 'burlington', 'uusa',\n",
       "       'illes baleares', 'madagascar', 'rep san marino', 'swazilandia',\n",
       "       'u.k.', 'johnson', 'gtr manchester', 'nanjing', 'anystate',\n",
       "       '30064', 'buncombe', 'navruz 5 proezd 4', 'bucks', 'santa barbara',\n",
       "       'hainan', 'trinidad/tobago.', 'metropolitan washington', 'houston',\n",
       "       'vestergade 8', 'nuevo leon', 'paÃ¯sos catalans', 'newfoundland',\n",
       "       'heliopolis', 'slovak republik', 'cheshire', 'fortaleza', 'in',\n",
       "       'co. carlow', 'pistlavakia', 'bavaria', 's.africa', 'west sussex',\n",
       "       'australian capital territory', 'vlaanderen',\n",
       "       'saint kitts and nevis', 'palm beach', 'philippinies', 'kedah',\n",
       "       'los estados unidos de norte america', 'russian federation',\n",
       "       'courtenay', 'north island', 'mauritania', 'nevada', 'pangasinan',\n",
       "       'lee', 'comoros', 'hidalgo', 'st.gallen', 'europe : uk', 'xinyu',\n",
       "       'kalamazoo', 'region iv', 'kent', 'new providence', 'orange co',\n",
       "       'rizal', 'baden-wÃ¼rttemberg', 'in europe', '4main', 'shanghai',\n",
       "       'quetigny', 'gujarat', 'd.c.', 'idaho', 'unknown', 'guam', 'a',\n",
       "       'jawa-tengah', 'san mateo', 'davidson', 'saint luica', 'thane',\n",
       "       '85021', 'west indies', 'malkajgiri', 'vatican city',\n",
       "       'western cape', 'montenegro', 'heilongjiang', 'west brabant',\n",
       "       'whatcom', 'nordeste', 'shizuoka pref.', 'seoul korea',\n",
       "       'st. clair', 'butler', 'allen', 'autralia', 'a new year is ahead',\n",
       "       'costa brava', 'fairyland', 'we`re global!', 'thing', 'ahrensburg',\n",
       "       'kern', 'baleares', 'rheinland-pfalz', 'cape may', 'the gambia',\n",
       "       'hunan', 'united sates', 'tyrtyrt', 'leÃ³n', 'kristianstad',\n",
       "       'liushi', 'bih', 'w. malaysia', 'st.thomasi', 'camp arif jan',\n",
       "       'alajuela', 'okinawa', 'n. ireland', 'fort bend', 'eu',\n",
       "       'trinidad and tobago west indies', 'geermany', 'pasig city.',\n",
       "       'fulton', 'malakajgiri', 'nsw', 'north sumatera', 'il',\n",
       "       'le madagascar', 'tubigon', 'yakima', 'balcistsa',\n",
       "       'pÃ¤ijÃ¤t-hÃ¤me', 'lincolnshire', 'vara?dinska ?upanija',\n",
       "       'no more', 'coimbra', 'dauphin', 'nwfp', 'behind omident petrol',\n",
       "       'everywhere and anywhere', 'p r china', 'isabela', 'yorkshire',\n",
       "       'citrus.', 'morayshire', 'manila', '1776', 'land of the free',\n",
       "       'people`s republic of china', 'lane', 'venezia giulia', 'bonn',\n",
       "       'x', 'chinaÃ¶Ã°Â¹Ãº', 'galiza neghra', 'united staes',\n",
       "       'shanxi province', 'asturies', 'nl', 'prov. di milano', '&#20013',\n",
       "       'austin', 'wa', 'germay', 'overijssel', 'kawit', 'yunling', 'va',\n",
       "       'estado de mexico', 'rep. san marino', 'laoning', 'hebei',\n",
       "       'r.o.c.', 'hubei', 'bkk', 'la svizzera', 'hernando',\n",
       "       'united kingdom.'], dtype=object)"
      ]
     },
     "execution_count": 19,
     "metadata": {},
     "output_type": "execute_result"
    }
   ],
   "source": [
    "#Checking the unique values of country\n",
    "users['Country'].unique()"
   ]
  },
  {
   "cell_type": "markdown",
   "metadata": {},
   "source": [
    "Based on what the countries look like, I will not be able to use location information, which is okay here because I wouldn't be using it for the recommender anyway. They have states mixed in with countries. I can also see that users typed in this info by hand because \"heard of it? :o)\" and \"somewherein space\" are not locations, let alone countries.\n",
    "\n",
    "Let's move on to the ratings file and see what types of info are in there."
   ]
  },
  {
   "cell_type": "code",
   "execution_count": 20,
   "metadata": {},
   "outputs": [
    {
     "data": {
      "text/plain": [
       "User-ID         int64\n",
       "ISBN           object\n",
       "Book-Rating     int64\n",
       "dtype: object"
      ]
     },
     "execution_count": 20,
     "metadata": {},
     "output_type": "execute_result"
    }
   ],
   "source": [
    "#Checking types in ratings file\n",
    "ratings.dtypes"
   ]
  },
  {
   "cell_type": "markdown",
   "metadata": {},
   "source": [
    "Integers make sense for User-ID and Book-Rating. Object makes sense for ISBN since some have letters as part of it."
   ]
  },
  {
   "cell_type": "code",
   "execution_count": 21,
   "metadata": {},
   "outputs": [
    {
     "data": {
      "text/plain": [
       "(1048561, 3)"
      ]
     },
     "execution_count": 21,
     "metadata": {},
     "output_type": "execute_result"
    }
   ],
   "source": [
    "#Taking a look at the size of the file\n",
    "ratings.shape"
   ]
  },
  {
   "cell_type": "code",
   "execution_count": 22,
   "metadata": {},
   "outputs": [
    {
     "data": {
      "text/plain": [
       "User-ID        0\n",
       "ISBN           0\n",
       "Book-Rating    0\n",
       "dtype: int64"
      ]
     },
     "execution_count": 22,
     "metadata": {},
     "output_type": "execute_result"
    }
   ],
   "source": [
    "#Checking if there are any nulls\n",
    "ratings.isnull().sum()"
   ]
  },
  {
   "cell_type": "markdown",
   "metadata": {},
   "source": [
    "I want to confirm that we have ratings entered correctly. 0 means they haven't rated it. Ratings are on a scale of 1-10 per data dictionary."
   ]
  },
  {
   "cell_type": "code",
   "execution_count": 23,
   "metadata": {},
   "outputs": [
    {
     "data": {
      "text/plain": [
       "array([ 0,  1,  2,  3,  4,  5,  6,  7,  8,  9, 10], dtype=int64)"
      ]
     },
     "execution_count": 23,
     "metadata": {},
     "output_type": "execute_result"
    }
   ],
   "source": [
    "#Checking out the unique ratings values\n",
    "ratings['Book-Rating'].unique()"
   ]
  },
  {
   "cell_type": "markdown",
   "metadata": {},
   "source": [
    "This looks like we have a correct range of numbers here. Let's look at types for the books file."
   ]
  },
  {
   "cell_type": "code",
   "execution_count": 24,
   "metadata": {},
   "outputs": [
    {
     "data": {
      "text/plain": [
       "ISBN                   object\n",
       "Book-Title             object\n",
       "Book-Author            object\n",
       "Year-Of-Publication    object\n",
       "Publisher              object\n",
       "Image-URL-S            object\n",
       "Image-URL-M            object\n",
       "Image-URL-L            object\n",
       "dtype: object"
      ]
     },
     "execution_count": 24,
     "metadata": {},
     "output_type": "execute_result"
    }
   ],
   "source": [
    "#Checking out types in the books file\n",
    "books.dtypes"
   ]
  },
  {
   "cell_type": "markdown",
   "metadata": {},
   "source": [
    "All types listed there make sense for what I would expect here."
   ]
  },
  {
   "cell_type": "code",
   "execution_count": 25,
   "metadata": {},
   "outputs": [
    {
     "data": {
      "text/plain": [
       "(271379, 8)"
      ]
     },
     "execution_count": 25,
     "metadata": {},
     "output_type": "execute_result"
    }
   ],
   "source": [
    "#Taking a look at the size of the books file\n",
    "books.shape"
   ]
  },
  {
   "cell_type": "markdown",
   "metadata": {},
   "source": [
    "It looks like we have a lot more books than we have ratings for."
   ]
  },
  {
   "cell_type": "code",
   "execution_count": 26,
   "metadata": {
    "scrolled": true
   },
   "outputs": [
    {
     "data": {
      "text/plain": [
       "ISBN                       0\n",
       "Book-Title                 0\n",
       "Book-Author            37625\n",
       "Year-Of-Publication    38969\n",
       "Publisher              38971\n",
       "Image-URL-S            43231\n",
       "Image-URL-M            43231\n",
       "Image-URL-L            43231\n",
       "dtype: int64"
      ]
     },
     "execution_count": 26,
     "metadata": {},
     "output_type": "execute_result"
    }
   ],
   "source": [
    "#Any nulls?\n",
    "books.isnull().sum()"
   ]
  },
  {
   "cell_type": "markdown",
   "metadata": {},
   "source": [
    "We are missing a lot of data in the books file. But for the recommender, I only need the title and the ISBN to merge the ratings CSV with it. So for the purposes of this project, this missing data is okay.\n",
    "\n",
    "I want to take a closer look at the publishers to see where most of the books are pulled from. I won't be using the publisher in the recommender, this is more of an curiosity glance at the data."
   ]
  },
  {
   "cell_type": "code",
   "execution_count": 27,
   "metadata": {},
   "outputs": [
    {
     "data": {
      "text/plain": [
       "Pocket              3688\n",
       "Ballantine Books    3451\n",
       "Bantam Books        3262\n",
       "Simon & Schuster    2667\n",
       "Penguin Books       2610\n",
       "Name: Publisher, dtype: int64"
      ]
     },
     "execution_count": 27,
     "metadata": {},
     "output_type": "execute_result"
    }
   ],
   "source": [
    "#Checking out publisher counts\n",
    "books['Publisher'].value_counts().head()"
   ]
  },
  {
   "cell_type": "markdown",
   "metadata": {},
   "source": [
    "### Data Cleaning\n",
    "\n",
    "From preliminary EDA, it looks like I don't have a lot of cleaning to do for the columns I will be using, but before I drop down to just the columns I need for the recommender, I want to drop the urls, then merge files. From there I'll do further EDA to get a better look at the story going on in the data."
   ]
  },
  {
   "cell_type": "code",
   "execution_count": 28,
   "metadata": {},
   "outputs": [],
   "source": [
    "#Dropping the urls\n",
    "books.drop(['Image-URL-S', 'Image-URL-M', 'Image-URL-L'], 1,  inplace=True)"
   ]
  },
  {
   "cell_type": "markdown",
   "metadata": {},
   "source": [
    "Duplicate titles will become a problem for the recommender engine so I'm going to drop them."
   ]
  },
  {
   "cell_type": "code",
   "execution_count": 29,
   "metadata": {},
   "outputs": [],
   "source": [
    "#Dropping duplicates\n",
    "books = books.drop_duplicates(subset =\"Book-Title\")"
   ]
  },
  {
   "cell_type": "markdown",
   "metadata": {},
   "source": [
    "I'm going to strip the space before and after the title, some of the titles had key errors when being run through the model and I suspect there are spacing issues in the cells."
   ]
  },
  {
   "cell_type": "code",
   "execution_count": 30,
   "metadata": {},
   "outputs": [],
   "source": [
    "#Stripping extra space from the titles\n",
    "books['Book-Title'] = books['Book-Title'].map(lambda cell: cell.strip())"
   ]
  },
  {
   "cell_type": "code",
   "execution_count": 31,
   "metadata": {},
   "outputs": [],
   "source": [
    "#Combining the ratings and books dataframes\n",
    "book_ratings = pd.merge(ratings, books, on='ISBN')"
   ]
  },
  {
   "cell_type": "code",
   "execution_count": 32,
   "metadata": {},
   "outputs": [
    {
     "data": {
      "text/plain": [
       "(382164, 7)"
      ]
     },
     "execution_count": 32,
     "metadata": {},
     "output_type": "execute_result"
    }
   ],
   "source": [
    "#Seeing how big the file is\n",
    "book_ratings.shape"
   ]
  },
  {
   "cell_type": "markdown",
   "metadata": {},
   "source": [
    "### Further Exploratory Data Analysis\n",
    "\n",
    "I wanted to take a look at the file once the ratings were added to be able to explore things like what the counts for ratings looks like, plus what the highest rated books are."
   ]
  },
  {
   "cell_type": "code",
   "execution_count": 33,
   "metadata": {
    "scrolled": true
   },
   "outputs": [
    {
     "data": {
      "image/png": "[encoded data removed]",
      "text/plain": [
       "<Figure size 432x288 with 1 Axes>"
      ]
     },
     "metadata": {
      "needs_background": "light"
     },
     "output_type": "display_data"
    }
   ],
   "source": [
    "#plotting the books ratings counts\n",
    "book_ratings['Book-Rating'].hist()\n",
    "plt.title(\"Book Rating Counts\", fontsize=16,fontweight='bold')\n",
    "plt.ylabel(\"Counts\", fontsize= 12,fontweight='bold')\n",
    "plt.xlabel(\"Book Rating\", fontsize= 12,fontweight='bold');"
   ]
  },
  {
   "cell_type": "markdown",
   "metadata": {
    "collapsed": true
   },
   "source": [
    "What we an see by this is that we have a lot of unrated books. I'm going to pull out the implicit counts since those are not votes and replot it."
   ]
  },
  {
   "cell_type": "code",
   "execution_count": 34,
   "metadata": {},
   "outputs": [
    {
     "data": {
      "image/png": "[encoded data removed]",
      "text/plain": [
       "<Figure size 864x864 with 1 Axes>"
      ]
     },
     "metadata": {
      "needs_background": "light"
     },
     "output_type": "display_data"
    }
   ],
   "source": [
    "#plotting explicit ratings to see the counts - created larger chart is so I can use it for the presentation\n",
    "explicit_ratings = book_ratings[book_ratings['Book-Rating'] != 0]\n",
    "plt.figure(figsize = (12,12))\n",
    "sns.set(style=\"darkgrid\")\n",
    "ax = sns.countplot(x=\"Book-Rating\", data=explicit_ratings)\n",
    "plt.title(\"Book Rating Counts\", fontsize=30,fontweight='bold')\n",
    "plt.ylabel(\"Counts\", fontsize= 24,fontweight='bold')\n",
    "plt.xlabel(\"Book Rating\", fontsize= 24,fontweight='bold');"
   ]
  },
  {
   "cell_type": "markdown",
   "metadata": {},
   "source": [
    "It's interesting to see the skew here. Of the titles voted on, people seemed to really favor whatever it was that they read. Next, I want to take a look at what the most popular books are for these users."
   ]
  },
  {
   "cell_type": "code",
   "execution_count": 35,
   "metadata": {},
   "outputs": [],
   "source": [
    "#getting the sums of the explicit ratings per isbn\n",
    "ratings_sums = pd.DataFrame(explicit_ratings.groupby(['ISBN'])['Book-Rating'].sum())\n",
    "#sorting so the favorites show up at the top\n",
    "favorites = ratings_sums.sort_values('Book-Rating', ascending = False)\n",
    "#merging with the books csv by isbn\n",
    "favorite_books = favorites.merge(books, left_index = True, right_on = 'ISBN')"
   ]
  },
  {
   "cell_type": "code",
   "execution_count": 36,
   "metadata": {},
   "outputs": [
    {
     "data": {
      "text/plain": [
       "(123590, 6)"
      ]
     },
     "execution_count": 36,
     "metadata": {},
     "output_type": "execute_result"
    }
   ],
   "source": [
    "#seeing how many books were rated\n",
    "favorite_books.shape"
   ]
  },
  {
   "cell_type": "code",
   "execution_count": 37,
   "metadata": {},
   "outputs": [
    {
     "data": {
      "text/html": [
       "<div>\n",
       "<style scoped>\n",
       "    .dataframe tbody tr th:only-of-type {\n",
       "        vertical-align: middle;\n",
       "    }\n",
       "\n",
       "    .dataframe tbody tr th {\n",
       "        vertical-align: top;\n",
       "    }\n",
       "\n",
       "    .dataframe thead th {\n",
       "        text-align: right;\n",
       "    }\n",
       "</style>\n",
       "<table border=\"1\" class=\"dataframe\">\n",
       "  <thead>\n",
       "    <tr style=\"text-align: right;\">\n",
       "      <th></th>\n",
       "      <th>Book-Rating</th>\n",
       "      <th>ISBN</th>\n",
       "      <th>Book-Title</th>\n",
       "      <th>Book-Author</th>\n",
       "      <th>Year-Of-Publication</th>\n",
       "      <th>Publisher</th>\n",
       "    </tr>\n",
       "  </thead>\n",
       "  <tbody>\n",
       "    <tr>\n",
       "      <th>408</th>\n",
       "      <td>5188</td>\n",
       "      <td>316666343</td>\n",
       "      <td>The Lovely Bones: A Novel</td>\n",
       "      <td>Alice Sebold</td>\n",
       "      <td>2002</td>\n",
       "      <td>Little</td>\n",
       "    </tr>\n",
       "    <tr>\n",
       "      <th>748</th>\n",
       "      <td>3814</td>\n",
       "      <td>385504209</td>\n",
       "      <td>The Da Vinci Code</td>\n",
       "      <td>Dan Brown</td>\n",
       "      <td>2003</td>\n",
       "      <td>Doubleday</td>\n",
       "    </tr>\n",
       "    <tr>\n",
       "      <th>522</th>\n",
       "      <td>2890</td>\n",
       "      <td>312195516</td>\n",
       "      <td>The Red Tent (Bestselling Backlist)</td>\n",
       "      <td>Anita Diamant</td>\n",
       "      <td>1998</td>\n",
       "      <td>Picador USA</td>\n",
       "    </tr>\n",
       "    <tr>\n",
       "      <th>2143</th>\n",
       "      <td>2546</td>\n",
       "      <td>059035342X</td>\n",
       "      <td>Harry Potter and the Sorcerer's Stone (Harry P...</td>\n",
       "      <td>J. K. Rowling</td>\n",
       "      <td>1999</td>\n",
       "      <td>Arthur A. Levine Books</td>\n",
       "    </tr>\n",
       "    <tr>\n",
       "      <th>356</th>\n",
       "      <td>2404</td>\n",
       "      <td>142001740</td>\n",
       "      <td>The Secret Life of Bees</td>\n",
       "      <td>Sue Monk Kidd</td>\n",
       "      <td>2003</td>\n",
       "      <td>Penguin Books</td>\n",
       "    </tr>\n",
       "    <tr>\n",
       "      <th>26</th>\n",
       "      <td>2337</td>\n",
       "      <td>971880107</td>\n",
       "      <td>Wild Animus</td>\n",
       "      <td>Rich Shapero</td>\n",
       "      <td>2004</td>\n",
       "      <td>Too Far</td>\n",
       "    </tr>\n",
       "    <tr>\n",
       "      <th>1105</th>\n",
       "      <td>2292</td>\n",
       "      <td>60928336</td>\n",
       "      <td>Divine Secrets of the Ya-Ya Sisterhood: A Novel</td>\n",
       "      <td>Rebecca Wells</td>\n",
       "      <td>1997</td>\n",
       "      <td>Perennial</td>\n",
       "    </tr>\n",
       "    <tr>\n",
       "      <th>706</th>\n",
       "      <td>2145</td>\n",
       "      <td>446672211</td>\n",
       "      <td>Where the Heart Is (Oprah's Book Club (Paperba...</td>\n",
       "      <td>Billie Letts</td>\n",
       "      <td>1998</td>\n",
       "      <td>Warner Books</td>\n",
       "    </tr>\n",
       "    <tr>\n",
       "      <th>118</th>\n",
       "      <td>2043</td>\n",
       "      <td>671027360</td>\n",
       "      <td>Angels &amp; Demons</td>\n",
       "      <td>Dan Brown</td>\n",
       "      <td>2001</td>\n",
       "      <td>Pocket Star</td>\n",
       "    </tr>\n",
       "    <tr>\n",
       "      <th>231</th>\n",
       "      <td>2040</td>\n",
       "      <td>452282152</td>\n",
       "      <td>Girl with a Pearl Earring</td>\n",
       "      <td>Tracy Chevalier</td>\n",
       "      <td>2001</td>\n",
       "      <td>Plume Books</td>\n",
       "    </tr>\n",
       "  </tbody>\n",
       "</table>\n",
       "</div>"
      ],
      "text/plain": [
       "      Book-Rating        ISBN  \\\n",
       "408          5188   316666343   \n",
       "748          3814   385504209   \n",
       "522          2890   312195516   \n",
       "2143         2546  059035342X   \n",
       "356          2404   142001740   \n",
       "26           2337   971880107   \n",
       "1105         2292    60928336   \n",
       "706          2145   446672211   \n",
       "118          2043   671027360   \n",
       "231          2040   452282152   \n",
       "\n",
       "                                             Book-Title      Book-Author  \\\n",
       "408                           The Lovely Bones: A Novel     Alice Sebold   \n",
       "748                                   The Da Vinci Code        Dan Brown   \n",
       "522                 The Red Tent (Bestselling Backlist)    Anita Diamant   \n",
       "2143  Harry Potter and the Sorcerer's Stone (Harry P...    J. K. Rowling   \n",
       "356                             The Secret Life of Bees    Sue Monk Kidd   \n",
       "26                                          Wild Animus     Rich Shapero   \n",
       "1105    Divine Secrets of the Ya-Ya Sisterhood: A Novel    Rebecca Wells   \n",
       "706   Where the Heart Is (Oprah's Book Club (Paperba...     Billie Letts   \n",
       "118                                     Angels & Demons        Dan Brown   \n",
       "231                           Girl with a Pearl Earring  Tracy Chevalier   \n",
       "\n",
       "     Year-Of-Publication               Publisher  \n",
       "408                 2002                  Little  \n",
       "748                 2003               Doubleday  \n",
       "522                 1998             Picador USA  \n",
       "2143                1999  Arthur A. Levine Books  \n",
       "356                 2003           Penguin Books  \n",
       "26                  2004                 Too Far  \n",
       "1105                1997               Perennial  \n",
       "706                 1998            Warner Books  \n",
       "118                 2001             Pocket Star  \n",
       "231                 2001             Plume Books  "
      ]
     },
     "execution_count": 37,
     "metadata": {},
     "output_type": "execute_result"
    }
   ],
   "source": [
    "#let's look at the top 10 rated books\n",
    "favorite_books.head(10)"
   ]
  },
  {
   "cell_type": "markdown",
   "metadata": {},
   "source": [
    "The Lovely Bones and Da Vinci Code make sense for the time period of books. "
   ]
  },
  {
   "cell_type": "code",
   "execution_count": 38,
   "metadata": {
    "scrolled": true
   },
   "outputs": [
    {
     "data": {
      "text/html": [
       "<div>\n",
       "<style scoped>\n",
       "    .dataframe tbody tr th:only-of-type {\n",
       "        vertical-align: middle;\n",
       "    }\n",
       "\n",
       "    .dataframe tbody tr th {\n",
       "        vertical-align: top;\n",
       "    }\n",
       "\n",
       "    .dataframe thead th {\n",
       "        text-align: right;\n",
       "    }\n",
       "</style>\n",
       "<table border=\"1\" class=\"dataframe\">\n",
       "  <thead>\n",
       "    <tr style=\"text-align: right;\">\n",
       "      <th></th>\n",
       "      <th>Book-Rating</th>\n",
       "      <th>ISBN</th>\n",
       "      <th>Book-Title</th>\n",
       "      <th>Book-Author</th>\n",
       "      <th>Year-Of-Publication</th>\n",
       "      <th>Publisher</th>\n",
       "    </tr>\n",
       "  </thead>\n",
       "  <tbody>\n",
       "    <tr>\n",
       "      <th>240193</th>\n",
       "      <td>1</td>\n",
       "      <td>771091176</td>\n",
       "      <td>More Joy in Heaven</td>\n",
       "      <td>Callaghan</td>\n",
       "      <td>1970</td>\n",
       "      <td>McClelland &amp; Stewart</td>\n",
       "    </tr>\n",
       "    <tr>\n",
       "      <th>256983</th>\n",
       "      <td>1</td>\n",
       "      <td>2070361861</td>\n",
       "      <td>Les rÃ?Âªveries du promeneur solitaire</td>\n",
       "      <td>Jean-Jacques Rousseau</td>\n",
       "      <td>1972</td>\n",
       "      <td>Gallimard</td>\n",
       "    </tr>\n",
       "    <tr>\n",
       "      <th>43647</th>\n",
       "      <td>1</td>\n",
       "      <td>618131655</td>\n",
       "      <td>Coming Soon!!!</td>\n",
       "      <td>John Barth</td>\n",
       "      <td>2001</td>\n",
       "      <td>Houghton Mifflin Company</td>\n",
       "    </tr>\n",
       "    <tr>\n",
       "      <th>180938</th>\n",
       "      <td>1</td>\n",
       "      <td>1565077172</td>\n",
       "      <td>The God Makers</td>\n",
       "      <td>Ed Decker</td>\n",
       "      <td>1997</td>\n",
       "      <td>Harvest House Publishers</td>\n",
       "    </tr>\n",
       "    <tr>\n",
       "      <th>164859</th>\n",
       "      <td>1</td>\n",
       "      <td>882077589</td>\n",
       "      <td>What Husbands Wish Their Wives Knew About Money</td>\n",
       "      <td>Larry Burkett</td>\n",
       "      <td>1982</td>\n",
       "      <td>Cook Communications Ministries intl</td>\n",
       "    </tr>\n",
       "    <tr>\n",
       "      <th>100898</th>\n",
       "      <td>1</td>\n",
       "      <td>806513500</td>\n",
       "      <td>The 100: A Ranking of the Most Influential Per...</td>\n",
       "      <td>Michael H. Hart</td>\n",
       "      <td>1992</td>\n",
       "      <td>Citadel Press</td>\n",
       "    </tr>\n",
       "    <tr>\n",
       "      <th>158567</th>\n",
       "      <td>1</td>\n",
       "      <td>310251117</td>\n",
       "      <td>Threshold (Book 2 of the Fire of Heaven Trilogy)</td>\n",
       "      <td>Bill Myers</td>\n",
       "      <td>2003</td>\n",
       "      <td>Zondervan Publishing Company</td>\n",
       "    </tr>\n",
       "    <tr>\n",
       "      <th>76495</th>\n",
       "      <td>1</td>\n",
       "      <td>528842862</td>\n",
       "      <td>Rand McNally 2001 Road Atlas: United States</td>\n",
       "      <td>NaN</td>\n",
       "      <td>NaN</td>\n",
       "      <td>NaN</td>\n",
       "    </tr>\n",
       "    <tr>\n",
       "      <th>190538</th>\n",
       "      <td>1</td>\n",
       "      <td>531003809</td>\n",
       "      <td>The Plant People (Triumph Book)</td>\n",
       "      <td>Dale Bick Carlson</td>\n",
       "      <td>1977</td>\n",
       "      <td>Scholastic Library Pub</td>\n",
       "    </tr>\n",
       "    <tr>\n",
       "      <th>197779</th>\n",
       "      <td>1</td>\n",
       "      <td>806501626</td>\n",
       "      <td>Essays in Existentialism</td>\n",
       "      <td>Jean-Paul Sartre</td>\n",
       "      <td>1993</td>\n",
       "      <td>Carol Publishing Corporation</td>\n",
       "    </tr>\n",
       "  </tbody>\n",
       "</table>\n",
       "</div>"
      ],
      "text/plain": [
       "        Book-Rating        ISBN  \\\n",
       "240193            1   771091176   \n",
       "256983            1  2070361861   \n",
       "43647             1   618131655   \n",
       "180938            1  1565077172   \n",
       "164859            1   882077589   \n",
       "100898            1   806513500   \n",
       "158567            1   310251117   \n",
       "76495             1   528842862   \n",
       "190538            1   531003809   \n",
       "197779            1   806501626   \n",
       "\n",
       "                                               Book-Title  \\\n",
       "240193                                 More Joy in Heaven   \n",
       "256983             Les rÃ?Âªveries du promeneur solitaire   \n",
       "43647                                      Coming Soon!!!   \n",
       "180938                                     The God Makers   \n",
       "164859    What Husbands Wish Their Wives Knew About Money   \n",
       "100898  The 100: A Ranking of the Most Influential Per...   \n",
       "158567   Threshold (Book 2 of the Fire of Heaven Trilogy)   \n",
       "76495         Rand McNally 2001 Road Atlas: United States   \n",
       "190538                    The Plant People (Triumph Book)   \n",
       "197779                           Essays in Existentialism   \n",
       "\n",
       "                  Book-Author Year-Of-Publication  \\\n",
       "240193              Callaghan                1970   \n",
       "256983  Jean-Jacques Rousseau                1972   \n",
       "43647              John Barth                2001   \n",
       "180938              Ed Decker                1997   \n",
       "164859          Larry Burkett                1982   \n",
       "100898        Michael H. Hart                1992   \n",
       "158567             Bill Myers                2003   \n",
       "76495                     NaN                 NaN   \n",
       "190538      Dale Bick Carlson                1977   \n",
       "197779       Jean-Paul Sartre                1993   \n",
       "\n",
       "                                  Publisher  \n",
       "240193                 McClelland & Stewart  \n",
       "256983                            Gallimard  \n",
       "43647              Houghton Mifflin Company  \n",
       "180938             Harvest House Publishers  \n",
       "164859  Cook Communications Ministries intl  \n",
       "100898                        Citadel Press  \n",
       "158567         Zondervan Publishing Company  \n",
       "76495                                   NaN  \n",
       "190538               Scholastic Library Pub  \n",
       "197779         Carol Publishing Corporation  "
      ]
     },
     "execution_count": 38,
     "metadata": {},
     "output_type": "execute_result"
    }
   ],
   "source": [
    "#Let's take a look at least popular:\n",
    "favorite_books.tail(10)"
   ]
  },
  {
   "cell_type": "markdown",
   "metadata": {},
   "source": [
    "There are a lot of books in the system that only have 1 rating. I'm also noting that with the Rousseau title, it appears there are issues reading in some of the foreign characters into the Jupyter notebook. I ran out of time researching foreign language libraries/packages, but I will note including it in next steps."
   ]
  },
  {
   "cell_type": "markdown",
   "metadata": {},
   "source": [
    "### Saving the DataFrame"
   ]
  },
  {
   "cell_type": "code",
   "execution_count": 39,
   "metadata": {},
   "outputs": [],
   "source": [
    "#saving the explicit_ratings dataframe to a csv\n",
    "explicit_ratings.to_csv('../datasets/book_crossing/explicit_ratings.csv')"
   ]
  },
  {
   "cell_type": "markdown",
   "metadata": {},
   "source": [
    "**Please continue to [2-Collaborator-Based-Preprocessing-and-Engine.ipynb](./2-Collaborator-Based-Preprocessing-and-Engine.ipynb) for the next step in the project: Collaborator-Based: Preprocessing and Engine.**"
   ]
  },
  {
   "cell_type": "code",
   "execution_count": null,
   "metadata": {},
   "outputs": [],
   "source": []
  }
 ],
 "metadata": {
  "kernelspec": {
   "display_name": "Python 3",
   "language": "python",
   "name": "python3"
  },
  "language_info": {
   "codemirror_mode": {
    "name": "ipython",
    "version": 3
   },
   "file_extension": ".py",
   "mimetype": "text/x-python",
   "name": "python",
   "nbconvert_exporter": "python",
   "pygments_lexer": "ipython3",
   "version": "3.7.4"
  }
 },
 "nbformat": 4,
 "nbformat_minor": 2
}
